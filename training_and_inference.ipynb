{
  "cells": [
    {
      "cell_type": "markdown",
      "metadata": {},
      "source": [
        "# Team GAEL\n",
        "Rohan Vij, Kevin Geng, Shan Kanwar - Dublin High School<br>\n",
        "Josh Tittiranonda - Stanford Online High School\n",
        "\n",
        "This Python notebook covers the steps needed to train and then inference the model.\n",
        "\n",
        "Note that we had severe limitations with the final capability of the model - we had to use Google Colab due to a lack of home/school training resources and were not able to spend much money to train our models for very long.\n",
        "\n",
        "YOLOv7's inbuilt calculations recommended a minimum of 171 epochs to train the model on all of the data we provided it - the most we were able to train was 100 epochs (58.4% of the minimum required for decent performance).\n",
        "\n",
        "When training the model yourself, try to run up to 171 epochs if your compute time and budget allows."
      ]
    },
    {
      "cell_type": "markdown",
      "metadata": {
        "id": "jsVn8GfmKqti"
      },
      "source": [
        "1. Start with cloning the original YOLOv7 repository:"
      ]
    },
    {
      "cell_type": "code",
      "execution_count": null,
      "metadata": {
        "colab": {
          "base_uri": "https://localhost:8080/"
        },
        "id": "4_m8N5RHJWRC",
        "outputId": "4073aff2-56e9-4365-839d-7d85ee53e1eb"
      },
      "outputs": [],
      "source": [
        "!git clone https://github.com/WongKinYiu/yolov7.git"
      ]
    },
    {
      "cell_type": "markdown",
      "metadata": {},
      "source": [
        "2. Install the required packages"
      ]
    },
    {
      "cell_type": "code",
      "execution_count": null,
      "metadata": {
        "colab": {
          "base_uri": "https://localhost:8080/"
        },
        "collapsed": true,
        "id": "QdARUVbd5dhH",
        "outputId": "8b7f1bd9-8438-40b8-b17e-ef5608406138"
      },
      "outputs": [],
      "source": [
        "!cd yolov7 && pip install -r requirements.txt"
      ]
    },
    {
      "cell_type": "markdown",
      "metadata": {},
      "source": [
        "3. Now download the dataset from our Google Drive folder [here](https://drive.google.com/file/d/1LmkcprkjByK_J124l4n6b0AFeMRXJ8XT/view?usp=sharing). This dataset has ~6.6k images - the original Fathomnet dataset is 2.2k images but we applied augmentations (such as grayscaling, gamma shifting, etc) to make the data more varied so the model could better detect the Brittle Stars in various environments."
      ]
    },
    {
      "cell_type": "markdown",
      "metadata": {
        "id": "CjDvhwu6Mb_K"
      },
      "source": [
        "4. Unzip the data folder\n"
      ]
    },
    {
      "cell_type": "code",
      "execution_count": null,
      "metadata": {
        "colab": {
          "base_uri": "https://localhost:8080/"
        },
        "collapsed": true,
        "id": "N3eaNuUlVEXr",
        "outputId": "5de52a5d-057c-4eb3-f577-380404996bd1"
      },
      "outputs": [],
      "source": [
        "!jar xvf \"CURRENT_brittle_stars_aug_yolov7.zip\""
      ]
    },
    {
      "cell_type": "markdown",
      "metadata": {},
      "source": [
        "5. Move the extracted files into the `yolov7` folder so the structure is like the following:\n",
        "\n",
        "```\n",
        "yolov7/\n",
        "├── data/\n",
        "│   ├── CURRENT_brittle_stars_aug_yolov7/\n",
        "│   │   ├── images/\n",
        "│   │   │   ├── test\n",
        "│   │   │   ├── train\n",
        "│   │   │   └── valid\n",
        "│   │   └── labels/\n",
        "│   │       ├── test\n",
        "│   │       ├── train\n",
        "│   │       └── valid\n",
        "│   └── stars.yaml\n",
        "└── cfg/\n",
        "    └── training/\n",
        "        └── yolov7stars.yaml\n",
        "```\n",
        "\n",
        "There will be other files in the same locations - you can simply ignore them, as they won't be used when we train the model."
      ]
    },
    {
      "cell_type": "markdown",
      "metadata": {
        "id": "eJ3XG_BsCtCM"
      },
      "source": [
        "6. Now we can train the model with our data. Run the following command to train the model."
      ]
    },
    {
      "cell_type": "code",
      "execution_count": null,
      "metadata": {
        "colab": {
          "base_uri": "https://localhost:8080/"
        },
        "id": "ml-YBOcwXoX1",
        "outputId": "14697c8c-642f-4d32-dca4-4d4ec2edb06d"
      },
      "outputs": [],
      "source": [
        "!cd yolov7 && python train.py --weights yolov7.pt --cfg cfg/training/yolov7stars.yaml --data data/stars.yaml --workers 8 --batch-size 32 --epoch 100 --name yolov7-stars"
      ]
    },
    {
      "cell_type": "markdown",
      "metadata": {},
      "source": [
        "7. This could take anywhere from a couple minutes (it took us ~5 minutes to train 2 epochs on an Nvidia A100), but up to multiple days if you are training on a lower-power GPU."
      ]
    },
    {
      "cell_type": "markdown",
      "metadata": {},
      "source": [
        "8. You can find the resulting `.pt` files in the `runs/yolov7-stars/weights` directory (use the `best.pt` file for the best performing model)."
      ]
    },
    {
      "cell_type": "markdown",
      "metadata": {},
      "source": [
        "## Inference\n",
        "\n",
        "1. To inference the model on a video, run the command `!cd yolov7 && python detect.py --weights best.pt --conf 0.25 --img-size 640 --source seafloor_footage.mp4 --csv-path results.csv --no-trace`.\n",
        "\n",
        "This will output a `.csv` file called `results.csv` that is in the same format as what is specified in the NOAA submission spreadsheet.\n",
        "\n",
        "2. To then transform that spreadsheet data into an actual video, run `python overlay_bounding_boxes.py --video seafloor_footage.mp4 --csv results.csv --output seafloor_annotated.mp4 --epochs <num_of_epochs_trained>`.\n",
        "This will output the `.mp4` that you saw uploaded in our [video submission](https://www.youtube.com/watch?v=CygW09nMTPA), including counts of the number of Brittle Stars per frame and other metrics.\n",
        "\n",
        "If you want to simply inference the video quickly without dealing with the `.csv`, follow the instructions in the YOLOv7 repo [here](https://github.com/WongKinYiu/yolov7)."
      ]
    }
  ],
  "metadata": {
    "accelerator": "GPU",
    "colab": {
      "gpuType": "T4",
      "provenance": []
    },
    "kernelspec": {
      "display_name": "Python 3",
      "name": "python3"
    },
    "language_info": {
      "name": "python"
    }
  },
  "nbformat": 4,
  "nbformat_minor": 0
}
